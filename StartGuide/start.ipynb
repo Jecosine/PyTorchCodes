{
 "metadata": {
  "language_info": {
   "codemirror_mode": {
    "name": "ipython",
    "version": 3
   },
   "file_extension": ".py",
   "mimetype": "text/x-python",
   "name": "python",
   "nbconvert_exporter": "python",
   "pygments_lexer": "ipython3",
   "version": "3.7.0-final"
  },
  "orig_nbformat": 2,
  "kernelspec": {
   "name": "python3",
   "display_name": "Python 3.7.0 64-bit (conda)",
   "metadata": {
    "interpreter": {
     "hash": "73e03da126b73bfff3642ec5261d56fa25c444ea595de51041687efaa60dda41"
    }
   }
  }
 },
 "nbformat": 4,
 "nbformat_minor": 2,
 "cells": [
  {
   "source": [
    "# Import modules"
   ],
   "cell_type": "markdown",
   "metadata": {}
  },
  {
   "cell_type": "code",
   "execution_count": 18,
   "metadata": {},
   "outputs": [],
   "source": [
    "import torch\n",
    "from torch import nn\n",
    "from torch.utils.data import DataLoader\n",
    "from torchvision import datasets\n",
    "from torchvision.transforms import ToTensor, Lambda, Compose\n",
    "import matplotlib.pyplot as plt\n",
    "import numpy as np\n",
    "import cv2"
   ]
  },
  {
   "source": [
    "## MINIST Test (Using FastMINIST)\n",
    "\n",
    "MixedNational Institute of Standards and Technology Database"
   ],
   "cell_type": "markdown",
   "metadata": {}
  },
  {
   "cell_type": "code",
   "execution_count": 3,
   "metadata": {},
   "outputs": [
    {
     "output_type": "stream",
     "name": "stdout",
     "text": [
      "cuda\n"
     ]
    }
   ],
   "source": [
    "# Check if cuda is enable\n",
    "device = \"cuda\" if torch.cuda.is_available() else \"cpu\"\n",
    "print(device)"
   ]
  },
  {
   "cell_type": "code",
   "execution_count": 4,
   "metadata": {
    "tags": []
   },
   "outputs": [],
   "source": [
    "# Download training data and test data\n",
    "# url = \"\"\n",
    "training_data = datasets.FashionMNIST(\n",
    "    root=\"data\",\n",
    "    train=True,\n",
    "    download=True,\n",
    "    transform=ToTensor()\n",
    ")\n",
    "# url = \"http://fashion-mnist.s3-website.eu-central-1.amazonaws.com/train-images-idx3-ubyte.gz\"\n",
    "test_data = datasets.FashionMNIST(\n",
    "    root=\"data\",\n",
    "    train=False,\n",
    "    download=True,\n",
    "    transform=ToTensor()\n",
    ")"
   ]
  },
  {
   "cell_type": "code",
   "execution_count": 5,
   "metadata": {},
   "outputs": [],
   "source": [
    "# Model definitoin\n",
    "\n",
    "class NetworkModel(nn.Module):\n",
    "    def __init__(self):\n",
    "        super(NetworkModel, self).__init__()\n",
    "        self.flatten = nn.Flatten()\n",
    "        self.linear_relu_stack = nn.Sequential(\n",
    "            nn.Linear(28 * 28, 512),\n",
    "            nn.ReLU(),\n",
    "            nn.Linear(512, 512),\n",
    "            nn.ReLU(),\n",
    "            nn.Linear(512, 10),\n",
    "            nn.ReLU()\n",
    "        )\n",
    "    def forward(self, x):\n",
    "        x = self.flatten(x)\n",
    "        logits = self.linear_relu_stack(x)\n",
    "        return logits"
   ]
  },
  {
   "cell_type": "code",
   "execution_count": 6,
   "metadata": {},
   "outputs": [
    {
     "output_type": "stream",
     "name": "stdout",
     "text": [
      "NetworkModel(\n",
      "  (flatten): Flatten(start_dim=1, end_dim=-1)\n",
      "  (linear_relu_stack): Sequential(\n",
      "    (0): Linear(in_features=784, out_features=512, bias=True)\n",
      "    (1): ReLU()\n",
      "    (2): Linear(in_features=512, out_features=512, bias=True)\n",
      "    (3): ReLU()\n",
      "    (4): Linear(in_features=512, out_features=10, bias=True)\n",
      "    (5): ReLU()\n",
      "  )\n",
      ")\n"
     ]
    }
   ],
   "source": [
    "model = NetworkModel().to(device)\n",
    "print(model)"
   ]
  },
  {
   "cell_type": "code",
   "execution_count": 7,
   "metadata": {},
   "outputs": [],
   "source": [
    "# loss function and optimizer\n",
    "\n",
    "loss_fn = nn.CrossEntropyLoss()\n",
    "optimizer = torch.optim.SGD(model.parameters(), lr=1e-3)"
   ]
  },
  {
   "cell_type": "code",
   "execution_count": 8,
   "metadata": {},
   "outputs": [
    {
     "output_type": "stream",
     "name": "stdout",
     "text": [
      "Shape of X [N, C, H, W]:  torch.Size([64, 1, 28, 28])\n",
      "Shape of y:  torch.Size([64]) torch.int64\n"
     ]
    }
   ],
   "source": [
    "# dataloaders\n",
    "\n",
    "batch_size = 64\n",
    "train_dataloader = DataLoader(training_data, batch_size=batch_size)\n",
    "test_dataloader = DataLoader(test_data, batch_size=batch_size)\n",
    "for (X, y) in test_dataloader:\n",
    "    print(\"Shape of X [N, C, H, W]: \", X.shape)\n",
    "    print(\"Shape of y: \", y.shape, y.dtype)\n",
    "    break"
   ]
  },
  {
   "cell_type": "code",
   "execution_count": 9,
   "metadata": {},
   "outputs": [],
   "source": [
    "# training function\n",
    "def train(dataloader, model, loss_fn, optimizer):\n",
    "    size = len(dataloader.dataset)\n",
    "    for batch, (X, y) in enumerate(dataloader):\n",
    "        X, y = X.to(device), y.to(device)\n",
    "        # predition error\n",
    "        pred = model(X)\n",
    "        loss = loss_fn(pred, y)\n",
    "\n",
    "        # backpropagation\n",
    "        optimizer.zero_grad()\n",
    "        loss.backward()\n",
    "        optimizer.step()\n",
    "\n",
    "        # save every 100\n",
    "        if batch % 100 == 0:\n",
    "            loss, current = loss.item(), batch * len(X)\n",
    "            print(f\"loss: {loss:>7f} [{current:>5d}/{size:>5d}]\")"
   ]
  },
  {
   "cell_type": "code",
   "execution_count": 10,
   "metadata": {},
   "outputs": [],
   "source": [
    "# test function\n",
    "def test(dataloader, model):\n",
    "    size = len(dataloader.dataset)\n",
    "    model.eval()\n",
    "    test_loss, correct = 0, 0\n",
    "    with torch.no_grad():\n",
    "        for X, y in dataloader:\n",
    "            X, y = X.to(device), y.to(device)\n",
    "            pred = model(X)\n",
    "            test_loss += loss_fn(pred, y).item()\n",
    "            correct += (pred.argmax(1) == y).type(torch.float).sum().item()\n",
    "    test_loss /= size\n",
    "    correct /= size\n",
    "    print(f\"Test Error: \\n Accuracy： {(100 * correct):>0.1f}%, Average loss: {test_loss:>8f} \\n\")"
   ]
  },
  {
   "cell_type": "code",
   "execution_count": 11,
   "metadata": {},
   "outputs": [
    {
     "output_type": "stream",
     "name": "stdout",
     "text": [
      "---- Epoch 1 ----\n",
      "loss: 2.296125 [    0/60000]\n",
      "loss: 2.294918 [ 6400/60000]\n",
      "loss: 2.280133 [12800/60000]\n",
      "loss: 2.282467 [19200/60000]\n",
      "loss: 2.268439 [25600/60000]\n",
      "loss: 2.242621 [32000/60000]\n",
      "loss: 2.261193 [38400/60000]\n",
      "loss: 2.223575 [44800/60000]\n",
      "loss: 2.222537 [51200/60000]\n",
      "loss: 2.223479 [57600/60000]\n",
      "Test Error: \n",
      " Accuracy： 48.5%, Average loss: 0.034680 \n",
      "\n",
      "---- Epoch 2 ----\n",
      "loss: 2.211331 [    0/60000]\n",
      "loss: 2.215801 [ 6400/60000]\n",
      "loss: 2.167615 [12800/60000]\n",
      "loss: 2.190891 [19200/60000]\n",
      "loss: 2.151850 [25600/60000]\n",
      "loss: 2.100999 [32000/60000]\n",
      "loss: 2.159827 [38400/60000]\n",
      "loss: 2.074177 [44800/60000]\n",
      "loss: 2.089887 [51200/60000]\n",
      "loss: 2.097179 [57600/60000]\n",
      "Test Error: \n",
      " Accuracy： 54.0%, Average loss: 0.032294 \n",
      "\n",
      "---- Epoch 3 ----\n",
      "loss: 2.074277 [    0/60000]\n",
      "loss: 2.069224 [ 6400/60000]\n",
      "loss: 1.969717 [12800/60000]\n",
      "loss: 2.029030 [19200/60000]\n",
      "loss: 1.952966 [25600/60000]\n",
      "loss: 1.869453 [32000/60000]\n",
      "loss: 1.991126 [38400/60000]\n",
      "loss: 1.831150 [44800/60000]\n",
      "loss: 1.894610 [51200/60000]\n",
      "loss: 1.921450 [57600/60000]\n",
      "Test Error: \n",
      " Accuracy： 55.4%, Average loss: 0.028849 \n",
      "\n",
      "---- Epoch 4 ----\n",
      "loss: 1.886231 [    0/60000]\n",
      "loss: 1.864776 [ 6400/60000]\n",
      "loss: 1.716261 [12800/60000]\n",
      "loss: 1.827045 [19200/60000]\n",
      "loss: 1.729004 [25600/60000]\n",
      "loss: 1.625235 [32000/60000]\n",
      "loss: 1.819837 [38400/60000]\n",
      "loss: 1.608120 [44800/60000]\n",
      "loss: 1.732065 [51200/60000]\n",
      "loss: 1.787098 [57600/60000]\n",
      "Test Error: \n",
      " Accuracy： 55.6%, Average loss: 0.026124 \n",
      "\n",
      "---- Epoch 5 ----\n",
      "loss: 1.745131 [    0/60000]\n",
      "loss: 1.711333 [ 6400/60000]\n",
      "loss: 1.540879 [12800/60000]\n",
      "loss: 1.685603 [19200/60000]\n",
      "loss: 1.582716 [25600/60000]\n",
      "loss: 1.474014 [32000/60000]\n",
      "loss: 1.705248 [38400/60000]\n",
      "loss: 1.480335 [44800/60000]\n",
      "loss: 1.627800 [51200/60000]\n",
      "loss: 1.700984 [57600/60000]\n",
      "Test Error: \n",
      " Accuracy： 56.3%, Average loss: 0.024410 \n",
      "\n",
      "Done\n"
     ]
    }
   ],
   "source": [
    "epochs = 5\n",
    "for i in range(epochs):\n",
    "    print(f\"---- Epoch {i + 1} ----\")\n",
    "    train(train_dataloader, model, loss_fn, optimizer)\n",
    "    test(test_dataloader, model)\n",
    "print(\"Done\")"
   ]
  },
  {
   "cell_type": "code",
   "execution_count": 12,
   "metadata": {},
   "outputs": [
    {
     "output_type": "stream",
     "name": "stdout",
     "text": [
      "Saved PyTorch Model State to dist/model.pth\n"
     ]
    }
   ],
   "source": [
    "# saving model state\n",
    "\n",
    "torch.save(model.state_dict(), \"dist/model.pth\")\n",
    "print(\"Saved PyTorch Model State to dist/model.pth\")"
   ]
  },
  {
   "cell_type": "code",
   "execution_count": 13,
   "metadata": {},
   "outputs": [
    {
     "output_type": "execute_result",
     "data": {
      "text/plain": [
       "<All keys matched successfully>"
      ]
     },
     "metadata": {},
     "execution_count": 13
    }
   ],
   "source": [
    "# load model state\n",
    "\n",
    "local_model = NetworkModel()\n",
    "local_model.load_state_dict(torch.load(\"dist/model.pth\"))"
   ]
  },
  {
   "cell_type": "code",
   "execution_count": 16,
   "metadata": {},
   "outputs": [
    {
     "output_type": "stream",
     "name": "stdout",
     "text": [
      "Predict result: Pullover, Actual: Pullover\n"
     ]
    }
   ],
   "source": [
    "# prediction\n",
    "\n",
    "classes = [\n",
    "    \"T-shirt/top\",\n",
    "    \"Trouser\",\n",
    "    \"Pullover\",\n",
    "    \"Dress\",\n",
    "    \"Coat\",\n",
    "    \"Sandal\",\n",
    "    \"Shirt\",\n",
    "    \"Sneaker\",\n",
    "    \"Bag\",\n",
    "    \"Ankle boot\"\n",
    "]\n",
    "local_model.eval()\n",
    "\n",
    "x, y = test_data[1][0], test_data[1][1]\n",
    "with torch.no_grad():\n",
    "    pred = local_model(x)\n",
    "    predict, actual = classes[pred[0].argmax(0)], classes[y]\n",
    "    print(f\"Predict result: {predict}, Actual: {actual}\")"
   ]
  },
  {
   "cell_type": "code",
   "execution_count": 35,
   "metadata": {},
   "outputs": [
    {
     "output_type": "execute_result",
     "data": {
      "text/plain": [
       "<matplotlib.image.AxesImage at 0x2528ab71978>"
      ]
     },
     "metadata": {},
     "execution_count": 35
    },
    {
     "output_type": "display_data",
     "data": {
      "text/plain": "<Figure size 432x288 with 1 Axes>",
      "image/svg+xml": "<?xml version=\"1.0\" encoding=\"utf-8\" standalone=\"no\"?>\r\n<!DOCTYPE svg PUBLIC \"-//W3C//DTD SVG 1.1//EN\"\r\n  \"http://www.w3.org/Graphics/SVG/1.1/DTD/svg11.dtd\">\r\n<!-- Created with matplotlib (https://matplotlib.org/) -->\r\n<svg height=\"248.518125pt\" version=\"1.1\" viewBox=\"0 0 251.565 248.518125\" width=\"251.565pt\" xmlns=\"http://www.w3.org/2000/svg\" xmlns:xlink=\"http://www.w3.org/1999/xlink\">\r\n <defs>\r\n  <style type=\"text/css\">\r\n*{stroke-linecap:butt;stroke-linejoin:round;}\r\n  </style>\r\n </defs>\r\n <g id=\"figure_1\">\r\n  <g id=\"patch_1\">\r\n   <path d=\"M 0 248.518125 \r\nL 251.565 248.518125 \r\nL 251.565 0 \r\nL 0 0 \r\nz\r\n\" style=\"fill:none;\"/>\r\n  </g>\r\n  <g id=\"axes_1\">\r\n   <g id=\"patch_2\">\r\n    <path d=\"M 26.925 224.64 \r\nL 244.365 224.64 \r\nL 244.365 7.2 \r\nL 26.925 7.2 \r\nz\r\n\" style=\"fill:#ffffff;\"/>\r\n   </g>\r\n   <g clip-path=\"url(#p0b1931f912)\">\r\n    <image height=\"218\" id=\"imagec74e3740d7\" transform=\"scale(1 -1)translate(0 -218)\" width=\"218\" x=\"26.925\" xlink:href=\"data:image/png;base64,\r\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\" y=\"-6.64\"/>\r\n   </g>\r\n   <g id=\"matplotlib.axis_1\">\r\n    <g id=\"xtick_1\">\r\n     <g id=\"line2d_1\">\r\n      <defs>\r\n       <path d=\"M 0 0 \r\nL 0 3.5 \r\n\" id=\"m7dbf73d82f\" style=\"stroke:#000000;stroke-width:0.8;\"/>\r\n      </defs>\r\n      <g>\r\n       <use style=\"stroke:#000000;stroke-width:0.8;\" x=\"30.807857\" xlink:href=\"#m7dbf73d82f\" y=\"224.64\"/>\r\n      </g>\r\n     </g>\r\n     <g id=\"text_1\">\r\n      <!-- 0 -->\r\n      <defs>\r\n       <path d=\"M 31.78125 66.40625 \r\nQ 24.171875 66.40625 20.328125 58.90625 \r\nQ 16.5 51.421875 16.5 36.375 \r\nQ 16.5 21.390625 20.328125 13.890625 \r\nQ 24.171875 6.390625 31.78125 6.390625 \r\nQ 39.453125 6.390625 43.28125 13.890625 \r\nQ 47.125 21.390625 47.125 36.375 \r\nQ 47.125 51.421875 43.28125 58.90625 \r\nQ 39.453125 66.40625 31.78125 66.40625 \r\nz\r\nM 31.78125 74.21875 \r\nQ 44.046875 74.21875 50.515625 64.515625 \r\nQ 56.984375 54.828125 56.984375 36.375 \r\nQ 56.984375 17.96875 50.515625 8.265625 \r\nQ 44.046875 -1.421875 31.78125 -1.421875 \r\nQ 19.53125 -1.421875 13.0625 8.265625 \r\nQ 6.59375 17.96875 6.59375 36.375 \r\nQ 6.59375 54.828125 13.0625 64.515625 \r\nQ 19.53125 74.21875 31.78125 74.21875 \r\nz\r\n\" id=\"DejaVuSans-48\"/>\r\n      </defs>\r\n      <g transform=\"translate(27.626607 239.238437)scale(0.1 -0.1)\">\r\n       <use xlink:href=\"#DejaVuSans-48\"/>\r\n      </g>\r\n     </g>\r\n    </g>\r\n    <g id=\"xtick_2\">\r\n     <g id=\"line2d_2\">\r\n      <g>\r\n       <use style=\"stroke:#000000;stroke-width:0.8;\" x=\"69.636429\" xlink:href=\"#m7dbf73d82f\" y=\"224.64\"/>\r\n      </g>\r\n     </g>\r\n     <g id=\"text_2\">\r\n      <!-- 5 -->\r\n      <defs>\r\n       <path d=\"M 10.796875 72.90625 \r\nL 49.515625 72.90625 \r\nL 49.515625 64.59375 \r\nL 19.828125 64.59375 \r\nL 19.828125 46.734375 \r\nQ 21.96875 47.46875 24.109375 47.828125 \r\nQ 26.265625 48.1875 28.421875 48.1875 \r\nQ 40.625 48.1875 47.75 41.5 \r\nQ 54.890625 34.8125 54.890625 23.390625 \r\nQ 54.890625 11.625 47.5625 5.09375 \r\nQ 40.234375 -1.421875 26.90625 -1.421875 \r\nQ 22.3125 -1.421875 17.546875 -0.640625 \r\nQ 12.796875 0.140625 7.71875 1.703125 \r\nL 7.71875 11.625 \r\nQ 12.109375 9.234375 16.796875 8.0625 \r\nQ 21.484375 6.890625 26.703125 6.890625 \r\nQ 35.15625 6.890625 40.078125 11.328125 \r\nQ 45.015625 15.765625 45.015625 23.390625 \r\nQ 45.015625 31 40.078125 35.4375 \r\nQ 35.15625 39.890625 26.703125 39.890625 \r\nQ 22.75 39.890625 18.8125 39.015625 \r\nQ 14.890625 38.140625 10.796875 36.28125 \r\nz\r\n\" id=\"DejaVuSans-53\"/>\r\n      </defs>\r\n      <g transform=\"translate(66.455179 239.238437)scale(0.1 -0.1)\">\r\n       <use xlink:href=\"#DejaVuSans-53\"/>\r\n      </g>\r\n     </g>\r\n    </g>\r\n    <g id=\"xtick_3\">\r\n     <g id=\"line2d_3\">\r\n      <g>\r\n       <use style=\"stroke:#000000;stroke-width:0.8;\" x=\"108.465\" xlink:href=\"#m7dbf73d82f\" y=\"224.64\"/>\r\n      </g>\r\n     </g>\r\n     <g id=\"text_3\">\r\n      <!-- 10 -->\r\n      <defs>\r\n       <path d=\"M 12.40625 8.296875 \r\nL 28.515625 8.296875 \r\nL 28.515625 63.921875 \r\nL 10.984375 60.40625 \r\nL 10.984375 69.390625 \r\nL 28.421875 72.90625 \r\nL 38.28125 72.90625 \r\nL 38.28125 8.296875 \r\nL 54.390625 8.296875 \r\nL 54.390625 0 \r\nL 12.40625 0 \r\nz\r\n\" id=\"DejaVuSans-49\"/>\r\n      </defs>\r\n      <g transform=\"translate(102.1025 239.238437)scale(0.1 -0.1)\">\r\n       <use xlink:href=\"#DejaVuSans-49\"/>\r\n       <use x=\"63.623047\" xlink:href=\"#DejaVuSans-48\"/>\r\n      </g>\r\n     </g>\r\n    </g>\r\n    <g id=\"xtick_4\">\r\n     <g id=\"line2d_4\">\r\n      <g>\r\n       <use style=\"stroke:#000000;stroke-width:0.8;\" x=\"147.293571\" xlink:href=\"#m7dbf73d82f\" y=\"224.64\"/>\r\n      </g>\r\n     </g>\r\n     <g id=\"text_4\">\r\n      <!-- 15 -->\r\n      <g transform=\"translate(140.931071 239.238437)scale(0.1 -0.1)\">\r\n       <use xlink:href=\"#DejaVuSans-49\"/>\r\n       <use x=\"63.623047\" xlink:href=\"#DejaVuSans-53\"/>\r\n      </g>\r\n     </g>\r\n    </g>\r\n    <g id=\"xtick_5\">\r\n     <g id=\"line2d_5\">\r\n      <g>\r\n       <use style=\"stroke:#000000;stroke-width:0.8;\" x=\"186.122143\" xlink:href=\"#m7dbf73d82f\" y=\"224.64\"/>\r\n      </g>\r\n     </g>\r\n     <g id=\"text_5\">\r\n      <!-- 20 -->\r\n      <defs>\r\n       <path d=\"M 19.1875 8.296875 \r\nL 53.609375 8.296875 \r\nL 53.609375 0 \r\nL 7.328125 0 \r\nL 7.328125 8.296875 \r\nQ 12.9375 14.109375 22.625 23.890625 \r\nQ 32.328125 33.6875 34.8125 36.53125 \r\nQ 39.546875 41.84375 41.421875 45.53125 \r\nQ 43.3125 49.21875 43.3125 52.78125 \r\nQ 43.3125 58.59375 39.234375 62.25 \r\nQ 35.15625 65.921875 28.609375 65.921875 \r\nQ 23.96875 65.921875 18.8125 64.3125 \r\nQ 13.671875 62.703125 7.8125 59.421875 \r\nL 7.8125 69.390625 \r\nQ 13.765625 71.78125 18.9375 73 \r\nQ 24.125 74.21875 28.421875 74.21875 \r\nQ 39.75 74.21875 46.484375 68.546875 \r\nQ 53.21875 62.890625 53.21875 53.421875 \r\nQ 53.21875 48.921875 51.53125 44.890625 \r\nQ 49.859375 40.875 45.40625 35.40625 \r\nQ 44.1875 33.984375 37.640625 27.21875 \r\nQ 31.109375 20.453125 19.1875 8.296875 \r\nz\r\n\" id=\"DejaVuSans-50\"/>\r\n      </defs>\r\n      <g transform=\"translate(179.759643 239.238437)scale(0.1 -0.1)\">\r\n       <use xlink:href=\"#DejaVuSans-50\"/>\r\n       <use x=\"63.623047\" xlink:href=\"#DejaVuSans-48\"/>\r\n      </g>\r\n     </g>\r\n    </g>\r\n    <g id=\"xtick_6\">\r\n     <g id=\"line2d_6\">\r\n      <g>\r\n       <use style=\"stroke:#000000;stroke-width:0.8;\" x=\"224.950714\" xlink:href=\"#m7dbf73d82f\" y=\"224.64\"/>\r\n      </g>\r\n     </g>\r\n     <g id=\"text_6\">\r\n      <!-- 25 -->\r\n      <g transform=\"translate(218.588214 239.238437)scale(0.1 -0.1)\">\r\n       <use xlink:href=\"#DejaVuSans-50\"/>\r\n       <use x=\"63.623047\" xlink:href=\"#DejaVuSans-53\"/>\r\n      </g>\r\n     </g>\r\n    </g>\r\n   </g>\r\n   <g id=\"matplotlib.axis_2\">\r\n    <g id=\"ytick_1\">\r\n     <g id=\"line2d_7\">\r\n      <defs>\r\n       <path d=\"M 0 0 \r\nL -3.5 0 \r\n\" id=\"m005139c102\" style=\"stroke:#000000;stroke-width:0.8;\"/>\r\n      </defs>\r\n      <g>\r\n       <use style=\"stroke:#000000;stroke-width:0.8;\" x=\"26.925\" xlink:href=\"#m005139c102\" y=\"11.082857\"/>\r\n      </g>\r\n     </g>\r\n     <g id=\"text_7\">\r\n      <!-- 0 -->\r\n      <g transform=\"translate(13.5625 14.882076)scale(0.1 -0.1)\">\r\n       <use xlink:href=\"#DejaVuSans-48\"/>\r\n      </g>\r\n     </g>\r\n    </g>\r\n    <g id=\"ytick_2\">\r\n     <g id=\"line2d_8\">\r\n      <g>\r\n       <use style=\"stroke:#000000;stroke-width:0.8;\" x=\"26.925\" xlink:href=\"#m005139c102\" y=\"49.911429\"/>\r\n      </g>\r\n     </g>\r\n     <g id=\"text_8\">\r\n      <!-- 5 -->\r\n      <g transform=\"translate(13.5625 53.710647)scale(0.1 -0.1)\">\r\n       <use xlink:href=\"#DejaVuSans-53\"/>\r\n      </g>\r\n     </g>\r\n    </g>\r\n    <g id=\"ytick_3\">\r\n     <g id=\"line2d_9\">\r\n      <g>\r\n       <use style=\"stroke:#000000;stroke-width:0.8;\" x=\"26.925\" xlink:href=\"#m005139c102\" y=\"88.74\"/>\r\n      </g>\r\n     </g>\r\n     <g id=\"text_9\">\r\n      <!-- 10 -->\r\n      <g transform=\"translate(7.2 92.539219)scale(0.1 -0.1)\">\r\n       <use xlink:href=\"#DejaVuSans-49\"/>\r\n       <use x=\"63.623047\" xlink:href=\"#DejaVuSans-48\"/>\r\n      </g>\r\n     </g>\r\n    </g>\r\n    <g id=\"ytick_4\">\r\n     <g id=\"line2d_10\">\r\n      <g>\r\n       <use style=\"stroke:#000000;stroke-width:0.8;\" x=\"26.925\" xlink:href=\"#m005139c102\" y=\"127.568571\"/>\r\n      </g>\r\n     </g>\r\n     <g id=\"text_10\">\r\n      <!-- 15 -->\r\n      <g transform=\"translate(7.2 131.36779)scale(0.1 -0.1)\">\r\n       <use xlink:href=\"#DejaVuSans-49\"/>\r\n       <use x=\"63.623047\" xlink:href=\"#DejaVuSans-53\"/>\r\n      </g>\r\n     </g>\r\n    </g>\r\n    <g id=\"ytick_5\">\r\n     <g id=\"line2d_11\">\r\n      <g>\r\n       <use style=\"stroke:#000000;stroke-width:0.8;\" x=\"26.925\" xlink:href=\"#m005139c102\" y=\"166.397143\"/>\r\n      </g>\r\n     </g>\r\n     <g id=\"text_11\">\r\n      <!-- 20 -->\r\n      <g transform=\"translate(7.2 170.196362)scale(0.1 -0.1)\">\r\n       <use xlink:href=\"#DejaVuSans-50\"/>\r\n       <use x=\"63.623047\" xlink:href=\"#DejaVuSans-48\"/>\r\n      </g>\r\n     </g>\r\n    </g>\r\n    <g id=\"ytick_6\">\r\n     <g id=\"line2d_12\">\r\n      <g>\r\n       <use style=\"stroke:#000000;stroke-width:0.8;\" x=\"26.925\" xlink:href=\"#m005139c102\" y=\"205.225714\"/>\r\n      </g>\r\n     </g>\r\n     <g id=\"text_12\">\r\n      <!-- 25 -->\r\n      <g transform=\"translate(7.2 209.024933)scale(0.1 -0.1)\">\r\n       <use xlink:href=\"#DejaVuSans-50\"/>\r\n       <use x=\"63.623047\" xlink:href=\"#DejaVuSans-53\"/>\r\n      </g>\r\n     </g>\r\n    </g>\r\n   </g>\r\n   <g id=\"patch_3\">\r\n    <path d=\"M 26.925 224.64 \r\nL 26.925 7.2 \r\n\" style=\"fill:none;stroke:#000000;stroke-linecap:square;stroke-linejoin:miter;stroke-width:0.8;\"/>\r\n   </g>\r\n   <g id=\"patch_4\">\r\n    <path d=\"M 244.365 224.64 \r\nL 244.365 7.2 \r\n\" style=\"fill:none;stroke:#000000;stroke-linecap:square;stroke-linejoin:miter;stroke-width:0.8;\"/>\r\n   </g>\r\n   <g id=\"patch_5\">\r\n    <path d=\"M 26.925 224.64 \r\nL 244.365 224.64 \r\n\" style=\"fill:none;stroke:#000000;stroke-linecap:square;stroke-linejoin:miter;stroke-width:0.8;\"/>\r\n   </g>\r\n   <g id=\"patch_6\">\r\n    <path d=\"M 26.925 7.2 \r\nL 244.365 7.2 \r\n\" style=\"fill:none;stroke:#000000;stroke-linecap:square;stroke-linejoin:miter;stroke-width:0.8;\"/>\r\n   </g>\r\n  </g>\r\n </g>\r\n <defs>\r\n  <clipPath id=\"p0b1931f912\">\r\n   <rect height=\"217.44\" width=\"217.44\" x=\"26.925\" y=\"7.2\"/>\r\n  </clipPath>\r\n </defs>\r\n</svg>\r\n",
      "image/png": "[encoded data removed]"
     },
     "metadata": {
      "needs_background": "light"
     }
    }
   ],
   "source": [
    "# show dataset image\n",
    "\n",
    "img = test_data[0][0].numpy()\n",
    "img = img.reshape(img.shape[1], img.shape[2])\n",
    "plt.imshow(img)"
   ]
  },
  {
   "cell_type": "code",
   "execution_count": null,
   "metadata": {},
   "outputs": [],
   "source": []
  }
 ]
}