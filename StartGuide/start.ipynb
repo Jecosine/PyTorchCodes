{
 "metadata": {
  "language_info": {
   "codemirror_mode": {
    "name": "ipython",
    "version": 3
   },
   "file_extension": ".py",
   "mimetype": "text/x-python",
   "name": "python",
   "nbconvert_exporter": "python",
   "pygments_lexer": "ipython3",
   "version": "3.7.0-final"
  },
  "orig_nbformat": 2,
  "kernelspec": {
   "name": "python3",
   "display_name": "Python 3.7.0 64-bit (conda)",
   "metadata": {
    "interpreter": {
     "hash": "73e03da126b73bfff3642ec5261d56fa25c444ea595de51041687efaa60dda41"
    }
   }
  }
 },
 "nbformat": 4,
 "nbformat_minor": 2,
 "cells": [
  {
   "source": [
    "# Import modules"
   ],
   "cell_type": "markdown",
   "metadata": {}
  },
  {
   "cell_type": "code",
   "execution_count": 27,
   "metadata": {},
   "outputs": [],
   "source": [
    "import torch\n",
    "from torch import nn\n",
    "from torch.utils.data import DataLoader\n",
    "from torchvision import datasets\n",
    "from torchvision.transforms import ToTensor, Lambda, Compose\n",
    "import matplotlib.pyplot as plt"
   ]
  },
  {
   "source": [
    "## MINIST Test (Using FastMINIST)\n",
    "\n",
    "MixedNational Institute of Standards and Technology Database"
   ],
   "cell_type": "markdown",
   "metadata": {}
  },
  {
   "cell_type": "code",
   "execution_count": 28,
   "metadata": {},
   "outputs": [
    {
     "output_type": "stream",
     "name": "stdout",
     "text": [
      "cuda\n"
     ]
    }
   ],
   "source": [
    "# Check if cuda is enable\n",
    "device = \"cuda\" if torch.cuda.is_available() else \"cpu\"\n",
    "print(device)"
   ]
  },
  {
   "cell_type": "code",
   "execution_count": 29,
   "metadata": {
    "tags": []
   },
   "outputs": [],
   "source": [
    "# Download training data and test data\n",
    "# url = \"\"\n",
    "training_data = datasets.FashionMNIST(\n",
    "    root=\"data\",\n",
    "    train=True,\n",
    "    download=True,\n",
    "    transform=ToTensor()\n",
    ")\n",
    "# url = \"http://fashion-mnist.s3-website.eu-central-1.amazonaws.com/train-images-idx3-ubyte.gz\"\n",
    "test_data = datasets.FashionMNIST(\n",
    "    root=\"data\",\n",
    "    train=False,\n",
    "    download=True,\n",
    "    transform=ToTensor()\n",
    ")"
   ]
  },
  {
   "cell_type": "code",
   "execution_count": 30,
   "metadata": {},
   "outputs": [],
   "source": [
    "# Model definitoin\n",
    "\n",
    "class NetworkModel(nn.Module):\n",
    "    def __init__(self):\n",
    "        super(NetworkModel, self).__init__()\n",
    "        self.flatten = nn.Flatten()\n",
    "        self.linear_relu_stack = nn.Sequential(\n",
    "            nn.Linear(28 * 28, 512),\n",
    "            nn.ReLU(),\n",
    "            nn.Linear(512, 512),\n",
    "            nn.ReLU(),\n",
    "            nn.Linear(512, 10),\n",
    "            nn.ReLU()\n",
    "        )\n",
    "    def forward(self, x):\n",
    "        x = self.flatten(x)\n",
    "        logits = self.linear_relu_stack(x)\n",
    "        return logits"
   ]
  },
  {
   "cell_type": "code",
   "execution_count": 31,
   "metadata": {},
   "outputs": [
    {
     "output_type": "stream",
     "name": "stdout",
     "text": [
      "NetworkModel(\n",
      "  (flatten): Flatten(start_dim=1, end_dim=-1)\n",
      "  (linear_relu_stack): Sequential(\n",
      "    (0): Linear(in_features=784, out_features=512, bias=True)\n",
      "    (1): ReLU()\n",
      "    (2): Linear(in_features=512, out_features=512, bias=True)\n",
      "    (3): ReLU()\n",
      "    (4): Linear(in_features=512, out_features=10, bias=True)\n",
      "    (5): ReLU()\n",
      "  )\n",
      ")\n"
     ]
    }
   ],
   "source": [
    "model = NetworkModel().to(device)\n",
    "print(model)"
   ]
  },
  {
   "cell_type": "code",
   "execution_count": 32,
   "metadata": {},
   "outputs": [],
   "source": [
    "# loss function and optimizer\n",
    "\n",
    "loss_fn = nn.CrossEntropyLoss()\n",
    "optimizer = torch.optim.SGD(model.parameters(), lr=1e-3)"
   ]
  },
  {
   "cell_type": "code",
   "execution_count": 33,
   "metadata": {},
   "outputs": [
    {
     "output_type": "stream",
     "name": "stdout",
     "text": [
      "Shape of X [N, C, H, W]:  torch.Size([64, 1, 28, 28])\n",
      "Shape of y:  torch.Size([64]) torch.int64\n"
     ]
    }
   ],
   "source": [
    "# dataloaders\n",
    "\n",
    "batch_size = 64\n",
    "train_dataloader = DataLoader(training_data, batch_size=batch_size)\n",
    "test_dataloader = DataLoader(test_data, batch_size=batch_size)\n",
    "for (X, y) in test_dataloader:\n",
    "    print(\"Shape of X [N, C, H, W]: \", X.shape)\n",
    "    print(\"Shape of y: \", y.shape, y.dtype)\n",
    "    break"
   ]
  },
  {
   "cell_type": "code",
   "execution_count": 34,
   "metadata": {},
   "outputs": [],
   "source": [
    "# training function\n",
    "def train(dataloader, model, loss_fn, optimizer):\n",
    "    size = len(dataloader.dataset)\n",
    "    for batch, (X, y) in enumerate(dataloader):\n",
    "        X, y = X.to(device), y.to(device)\n",
    "        # predition error\n",
    "        pred = model(X)\n",
    "        loss = loss_fn(pred, y)\n",
    "\n",
    "        # backpropagation\n",
    "        optimizer.zero_grad()\n",
    "        loss.backward()\n",
    "        optimizer.step()\n",
    "\n",
    "        # save every 100\n",
    "        if batch % 100 == 0:\n",
    "            loss, current = loss.item(), batch * len(X)\n",
    "            print(f\"loss: {loss:>7f} [{current:>5d}/{size:>5d}]\")"
   ]
  },
  {
   "cell_type": "code",
   "execution_count": 35,
   "metadata": {},
   "outputs": [],
   "source": [
    "# test function\n",
    "def test(dataloader, model):\n",
    "    size = len(dataloader.dataset)\n",
    "    model.eval()\n",
    "    test_loss, correct = 0, 0\n",
    "    with torch.no_grad():\n",
    "        for X, y in dataloader:\n",
    "            X, y = X.to(device), y.to(device)\n",
    "            pred = model(X)\n",
    "            test_loss += loss_fn(pred, y).item()\n",
    "            correct += (pred.argmax(1) == y).type(torch.float).sum().item()\n",
    "    test_loss /= size\n",
    "    correct /= size\n",
    "    print(f\"Test Error: \\n Accuracy： {(100 * correct):>0.1f}%, Average loss: {test_loss:>8f} \\n\")"
   ]
  },
  {
   "cell_type": "code",
   "execution_count": 36,
   "metadata": {},
   "outputs": [
    {
     "output_type": "stream",
     "name": "stdout",
     "text": [
      "---- Epoch 1 ----\n",
      "loss: 2.299933 [    0/60000]\n",
      "loss: 2.299534 [ 6400/60000]\n",
      "loss: 2.297386 [12800/60000]\n",
      "loss: 2.300331 [19200/60000]\n",
      "loss: 2.299818 [25600/60000]\n",
      "loss: 2.296238 [32000/60000]\n",
      "loss: 2.296278 [38400/60000]\n",
      "loss: 2.291545 [44800/60000]\n",
      "loss: 2.280433 [51200/60000]\n",
      "loss: 2.296719 [57600/60000]\n",
      "Test Error: \n",
      " Accuracy： 25.8%, Average loss: 0.035893 \n",
      "\n",
      "---- Epoch 2 ----\n",
      "loss: 2.267848 [    0/60000]\n",
      "loss: 2.273011 [ 6400/60000]\n",
      "loss: 2.257908 [12800/60000]\n",
      "loss: 2.280724 [19200/60000]\n",
      "loss: 2.285402 [25600/60000]\n",
      "loss: 2.262924 [32000/60000]\n",
      "loss: 2.287923 [38400/60000]\n",
      "loss: 2.269847 [44800/60000]\n",
      "loss: 2.237982 [51200/60000]\n",
      "loss: 2.262876 [57600/60000]\n",
      "Test Error: \n",
      " Accuracy： 29.6%, Average loss: 0.035390 \n",
      "\n",
      "---- Epoch 3 ----\n",
      "loss: 2.226375 [    0/60000]\n",
      "loss: 2.239653 [ 6400/60000]\n",
      "loss: 2.204443 [12800/60000]\n",
      "loss: 2.241678 [19200/60000]\n",
      "loss: 2.250006 [25600/60000]\n",
      "loss: 2.206567 [32000/60000]\n",
      "loss: 2.264889 [38400/60000]\n",
      "loss: 2.220086 [44800/60000]\n",
      "loss: 2.181340 [51200/60000]\n",
      "loss: 2.206892 [57600/60000]\n",
      "Test Error: \n",
      " Accuracy： 40.3%, Average loss: 0.034329 \n",
      "\n",
      "---- Epoch 4 ----\n",
      "loss: 2.161910 [    0/60000]\n",
      "loss: 2.155510 [ 6400/60000]\n",
      "loss: 2.088865 [12800/60000]\n",
      "loss: 2.161514 [19200/60000]\n",
      "loss: 2.156001 [25600/60000]\n",
      "loss: 2.100377 [32000/60000]\n",
      "loss: 2.209860 [38400/60000]\n",
      "loss: 2.131393 [44800/60000]\n",
      "loss: 2.103996 [51200/60000]\n",
      "loss: 2.127027 [57600/60000]\n",
      "Test Error: \n",
      " Accuracy： 38.7%, Average loss: 0.032774 \n",
      "\n",
      "---- Epoch 5 ----\n",
      "loss: 2.065918 [    0/60000]\n",
      "loss: 2.031616 [ 6400/60000]\n",
      "loss: 1.929380 [12800/60000]\n",
      "loss: 2.057072 [19200/60000]\n",
      "loss: 2.021977 [25600/60000]\n",
      "loss: 1.965411 [32000/60000]\n",
      "loss: 2.139800 [38400/60000]\n",
      "loss: 2.027249 [44800/60000]\n",
      "loss: 2.025061 [51200/60000]\n",
      "loss: 2.048167 [57600/60000]\n",
      "Test Error: \n",
      " Accuracy： 39.1%, Average loss: 0.031102 \n",
      "\n",
      "Done\n"
     ]
    }
   ],
   "source": [
    "epochs = 5\n",
    "for i in range(epochs):\n",
    "    print(f\"---- Epoch {i + 1} ----\")\n",
    "    train(train_dataloader, model, loss_fn, optimizer)\n",
    "    test(test_dataloader, model)\n",
    "print(\"Done\")"
   ]
  },
  {
   "cell_type": "code",
   "execution_count": 37,
   "metadata": {},
   "outputs": [
    {
     "output_type": "stream",
     "name": "stdout",
     "text": [
      "Saved PyTorch Model State to dist/model.pth\n"
     ]
    }
   ],
   "source": [
    "# saving model\n",
    "\n",
    "torch.save(model.state_dict(), \"dist/model.pth\")\n",
    "print(\"Saved PyTorch Model State to dist/model.pth\")"
   ]
  },
  {
   "cell_type": "code",
   "execution_count": null,
   "metadata": {},
   "outputs": [],
   "source": [
    "# load model"
   ]
  }
 ]
}