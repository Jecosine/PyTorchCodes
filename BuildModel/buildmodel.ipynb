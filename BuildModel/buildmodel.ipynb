{
 "metadata": {
  "language_info": {
   "codemirror_mode": {
    "name": "ipython",
    "version": 3
   },
   "file_extension": ".py",
   "mimetype": "text/x-python",
   "name": "python",
   "nbconvert_exporter": "python",
   "pygments_lexer": "ipython3",
   "version": "3.7.0-final"
  },
  "orig_nbformat": 2,
  "kernelspec": {
   "name": "python3",
   "display_name": "Python 3.7.0 64-bit (conda)",
   "metadata": {
    "interpreter": {
     "hash": "73e03da126b73bfff3642ec5261d56fa25c444ea595de51041687efaa60dda41"
    }
   }
  }
 },
 "nbformat": 4,
 "nbformat_minor": 2,
 "cells": [
  {
   "source": [
    "# Build Model"
   ],
   "cell_type": "markdown",
   "metadata": {}
  },
  {
   "cell_type": "code",
   "execution_count": 1,
   "metadata": {},
   "outputs": [],
   "source": [
    "import torch\n",
    "import os\n",
    "from torch import nn\n",
    "from torch.utils.data import DataLoader\n",
    "from torchvision import datasets, transforms\n",
    "from torchvision.transforms import ToTensor, Lambda, Compose"
   ]
  },
  {
   "cell_type": "code",
   "execution_count": 2,
   "metadata": {},
   "outputs": [
    {
     "output_type": "stream",
     "name": "stdout",
     "text": [
      "Current device: cuda\n"
     ]
    }
   ],
   "source": [
    "# get device\n",
    "device = \"cuda\" if torch.cuda.is_available() else \"cpu\"\n",
    "print(f\"Current device: {device}\")"
   ]
  },
  {
   "cell_type": "code",
   "execution_count": 3,
   "metadata": {},
   "outputs": [],
   "source": [
    "## import datasets\n",
    "train_data = datasets.FashionMNIST(\n",
    "    root=\"../StartGuide/data\",\n",
    "    train=True,\n",
    "    download=False,\n",
    "    transform=ToTensor()\n",
    ")\n",
    "test_data = datasets.FashionMNIST(\n",
    "    root=\"../StartGuide/data\",\n",
    "    train=False,\n",
    "    download=False,\n",
    "    transform=ToTensor()\n",
    ")"
   ]
  },
  {
   "cell_type": "code",
   "execution_count": 4,
   "metadata": {},
   "outputs": [
    {
     "output_type": "execute_result",
     "data": {
      "text/plain": [
       "torch.Size([1, 28, 28])"
      ]
     },
     "metadata": {},
     "execution_count": 4
    }
   ],
   "source": [
    "test_data[0][0].shape"
   ]
  },
  {
   "cell_type": "code",
   "execution_count": 5,
   "metadata": {},
   "outputs": [],
   "source": [
    "## define model\n",
    "\n",
    "class NNModel(nn.Module):\n",
    "    def __init__(self):\n",
    "        super(NNModel, self).__init__()\n",
    "        self.flatten = nn.Flatten()\n",
    "        self.linear_relu_stack = nn.Sequential(\n",
    "            nn.Linear(784, 512),\n",
    "            nn.ReLU(),\n",
    "            nn.Linear(512, 512),\n",
    "            nn.ReLU(),\n",
    "            nn.Linear(512, 10),\n",
    "            nn.ReLU()\n",
    "        )\n",
    "    def forward(self, x):\n",
    "        x = self.flatten(x)\n",
    "        logits = self.linear_relu_stack(x)\n",
    "        return logits"
   ]
  },
  {
   "cell_type": "code",
   "execution_count": 6,
   "metadata": {},
   "outputs": [
    {
     "output_type": "stream",
     "name": "stdout",
     "text": [
      "NNModel(\n",
      "  (flatten): Flatten(start_dim=1, end_dim=-1)\n",
      "  (linear_relu_stack): Sequential(\n",
      "    (0): Linear(in_features=784, out_features=512, bias=True)\n",
      "    (1): ReLU()\n",
      "    (2): Linear(in_features=512, out_features=512, bias=True)\n",
      "    (3): ReLU()\n",
      "    (4): Linear(in_features=512, out_features=10, bias=True)\n",
      "    (5): ReLU()\n",
      "  )\n",
      ")\n"
     ]
    }
   ],
   "source": [
    "model = NNModel().to(device)\n",
    "print(model)"
   ]
  },
  {
   "source": [
    "## Model Layers\n",
    "\n",
    "- `nn.Flatten`\n",
    "- `nn.Linear`\n",
    "- `nn.ReLU`\n",
    "- `nn.Sequential`\n",
    "- `nn.Softmax`"
   ],
   "cell_type": "markdown",
   "metadata": {}
  },
  {
   "cell_type": "code",
   "execution_count": 7,
   "metadata": {},
   "outputs": [
    {
     "output_type": "stream",
     "name": "stdout",
     "text": [
      "torch.Size([3, 28, 28])\n"
     ]
    }
   ],
   "source": [
    "# test data\n",
    "tmp = torch.rand(3, 28, 28)\n",
    "print(tmp.shape)"
   ]
  },
  {
   "source": [
    "### Flatten Layer\n",
    "\n",
    "Flattens a contiguous range of dims into a tensor"
   ],
   "cell_type": "markdown",
   "metadata": {}
  },
  {
   "cell_type": "code",
   "execution_count": 8,
   "metadata": {},
   "outputs": [
    {
     "output_type": "stream",
     "name": "stdout",
     "text": [
      "Flattened data shape: torch.Size([3, 784])\n"
     ]
    }
   ],
   "source": [
    "flatten_layer = nn.Flatten(start_dim=1, end_dim=-1)\n",
    "flattened_data = flatten_layer(tmp)\n",
    "print(f\"Flattened data shape: {flattened_data.shape}\")"
   ]
  },
  {
   "source": [
    "### Linear Layer\n",
    "\n",
    "Applies a linear transformation on the input using its weights and biases"
   ],
   "cell_type": "markdown",
   "metadata": {}
  },
  {
   "cell_type": "code",
   "execution_count": 9,
   "metadata": {},
   "outputs": [
    {
     "output_type": "stream",
     "name": "stdout",
     "text": [
      "Hidden layer shape: torch.Size([3, 20])\n"
     ]
    }
   ],
   "source": [
    "linear_layer = nn.Linear(in_features=784, out_features=20)\n",
    "hidden_layer = linear_layer(flattened_data)\n",
    "print(f\"Hidden layer shape: {hidden_layer.shape}\")"
   ]
  },
  {
   "cell_type": "code",
   "execution_count": 29,
   "metadata": {},
   "outputs": [
    {
     "output_type": "stream",
     "name": "stdout",
     "text": [
      "Hidden data: \n",
      "tensor([[-0.0187,  0.6563,  0.1137,  0.2563, -0.3326,  0.1804,  0.4862,  0.1541,\n",
      "         -0.0388,  0.3862, -0.2314,  0.3201,  0.2664,  0.4718,  0.2916, -0.2339,\n",
      "          0.0493,  0.0479,  0.4649,  0.1129],\n",
      "        [ 0.0721,  0.3049,  0.1401,  0.4665, -0.2594, -0.0516,  0.2249, -0.1089,\n",
      "         -0.1758,  0.5431, -0.4015,  0.5934, -0.2683,  0.1119,  0.3522,  0.0236,\n",
      "          0.0497, -0.3324,  0.6946, -0.1029],\n",
      "        [-0.1265,  0.6517,  0.0087,  0.0375, -0.2542, -0.0066,  0.6874,  0.1504,\n",
      "         -0.2874,  0.3833, -0.3095,  0.5220,  0.1034,  0.0204,  0.6119, -0.2515,\n",
      "          0.4521, -0.3070,  0.6022, -0.3936]], grad_fn=<AddmmBackward>)\n",
      "Weight: \n",
      "torch.Size([20, 784])\n",
      "Bias: \n",
      "torch.Size([20])\n",
      "tensor([[-0.0187,  0.6563,  0.1137,  0.2563, -0.3326,  0.1804,  0.4862,  0.1541,\n",
      "         -0.0388,  0.3862, -0.2314,  0.3201,  0.2664,  0.4718,  0.2916, -0.2339,\n",
      "          0.0493,  0.0479,  0.4649,  0.1129],\n",
      "        [ 0.0721,  0.3049,  0.1401,  0.4665, -0.2594, -0.0516,  0.2249, -0.1089,\n",
      "         -0.1758,  0.5431, -0.4015,  0.5934, -0.2683,  0.1119,  0.3522,  0.0236,\n",
      "          0.0497, -0.3324,  0.6946, -0.1029],\n",
      "        [-0.1265,  0.6517,  0.0087,  0.0375, -0.2542, -0.0066,  0.6874,  0.1504,\n",
      "         -0.2874,  0.3833, -0.3095,  0.5220,  0.1034,  0.0204,  0.6119, -0.2515,\n",
      "          0.4521, -0.3070,  0.6022, -0.3936]], grad_fn=<AddBackward0>)\n"
     ]
    }
   ],
   "source": [
    "print(f\"Hidden data: \\n{hidden_layer}\")\n",
    "print(f\"Weight: \\n{linear_layer.weight.shape}\\nBias: \\n{linear_layer.bias.shape}\")\n",
    "print(f\"{flattened_data @ linear_layer.weight.T + linear_layer.bias}\") # TODO float comparation?"
   ]
  }
 ]
}