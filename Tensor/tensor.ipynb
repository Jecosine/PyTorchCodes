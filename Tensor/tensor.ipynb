{
 "metadata": {
  "language_info": {
   "codemirror_mode": {
    "name": "ipython",
    "version": 3
   },
   "file_extension": ".py",
   "mimetype": "text/x-python",
   "name": "python",
   "nbconvert_exporter": "python",
   "pygments_lexer": "ipython3",
   "version": "3.7.0-final"
  },
  "orig_nbformat": 2,
  "kernelspec": {
   "name": "python3",
   "display_name": "Python 3.7.0 64-bit (conda)",
   "metadata": {
    "interpreter": {
     "hash": "73e03da126b73bfff3642ec5261d56fa25c444ea595de51041687efaa60dda41"
    }
   }
  }
 },
 "nbformat": 4,
 "nbformat_minor": 2,
 "cells": [
  {
   "source": [
    "# Learning Tensors"
   ],
   "cell_type": "markdown",
   "metadata": {}
  },
  {
   "cell_type": "code",
   "execution_count": 25,
   "metadata": {},
   "outputs": [],
   "source": [
    "import torch\n",
    "import numpy as np\n",
    "import gc"
   ]
  },
  {
   "source": [
    "## Initialize a Tensor"
   ],
   "cell_type": "markdown",
   "metadata": {}
  },
  {
   "cell_type": "code",
   "execution_count": 11,
   "metadata": {},
   "outputs": [
    {
     "output_type": "stream",
     "name": "stdout",
     "text": [
      "tensor([[1, 2],\n",
      "        [3, 4]])\n",
      "tensor([[1, 2],\n",
      "        [3, 4]], dtype=torch.int32)\n",
      "tensor([[1, 2],\n",
      "        [3, 4]], dtype=torch.int32)\n",
      "Ones like: \n",
      "tensor([[1, 1],\n",
      "        [1, 1]])\n",
      "Rand like: \n",
      "tensor([[0.7769, 0.1251],\n",
      "        [0.8057, 0.9650]])\n"
     ]
    }
   ],
   "source": [
    "# from list data \n",
    "list_data = [[1,2], [3,4]]\n",
    "tensor_from_list = torch.tensor(list_data)\n",
    "print(tensor_from_list)\n",
    "\n",
    "# from numpy\n",
    "np_data = np.array(list_data)\n",
    "tensor_from_np = torch.from_numpy(np_data)\n",
    "print(tensor_from_np)\n",
    "\n",
    "# specify dtype\n",
    "tensor_from_list_int32 = torch.tensor(list_data, dtype=torch.int32)\n",
    "print(tensor_from_list_int32)\n",
    "\n",
    "# from others (param type must be torch.Tensor)\n",
    "tensor_ones = torch.ones_like(tensor_from_list)\n",
    "print(f\"Ones like: \\n{tensor_ones}\")\n",
    "\n",
    "tensor_rand = torch.rand_like(tensor_from_list, dtype=torch.float)\n",
    "print(f\"Rand like: \\n{tensor_rand}\")\n",
    "\n",
    "# clear\n"
   ]
  },
  {
   "cell_type": "code",
   "execution_count": 13,
   "metadata": {},
   "outputs": [
    {
     "output_type": "stream",
     "name": "stdout",
     "text": [
      "Random Tensor: \n",
      " tensor([[0.6531, 0.5625, 0.1387, 0.1842],\n",
      "        [0.2118, 0.7784, 0.2184, 0.6342],\n",
      "        [0.8886, 0.9023, 0.7651, 0.4538]])\n",
      "Ones Tensor: \n",
      " tensor([[1., 1., 1., 1.],\n",
      "        [1., 1., 1., 1.],\n",
      "        [1., 1., 1., 1.]])\n",
      "Zeros Tensor: \n",
      " tensor([[0., 0., 0., 0.],\n",
      "        [0., 0., 0., 0.],\n",
      "        [0., 0., 0., 0.]])\n"
     ]
    }
   ],
   "source": [
    "# from shape\n",
    "\n",
    "shape = (3, 4, ) # why comma\n",
    "rand_tensor = torch.rand(shape)\n",
    "ones_tensor = torch.ones(shape)\n",
    "zeros_tensor = torch.zeros(shape)\n",
    "print(f\"Random Tensor: \\n {rand_tensor}\")\n",
    "print(f\"Ones Tensor: \\n {ones_tensor}\")\n",
    "print(f\"Zeros Tensor: \\n {zeros_tensor}\")"
   ]
  },
  {
   "source": [
    "## Tensor Attribute\n",
    "\n",
    "- shape\n",
    "- dtype\n",
    "- device"
   ],
   "cell_type": "markdown",
   "metadata": {}
  },
  {
   "cell_type": "code",
   "execution_count": 14,
   "metadata": {},
   "outputs": [
    {
     "output_type": "stream",
     "name": "stdout",
     "text": [
      "Shape: torch.Size([2, 2])\n",
      "Dtype: torch.int64\n",
      "Device: cpu\n"
     ]
    }
   ],
   "source": [
    "print(f\"Shape: {tensor_from_list.shape}\")\n",
    "print(f\"Dtype: {tensor_from_list.dtype}\")\n",
    "print(f\"Device: {tensor_from_list.device}\")"
   ]
  },
  {
   "source": [
    "## Tensor Operation\n",
    "\n",
    "- indexing and slicing\n",
    "- joining\n",
    "- arithmetic\n",
    "- single element value\n",
    "- in-place"
   ],
   "cell_type": "markdown",
   "metadata": {}
  },
  {
   "cell_type": "code",
   "execution_count": 31,
   "metadata": {},
   "outputs": [
    {
     "output_type": "stream",
     "name": "stdout",
     "text": [
      "Origin Matrix: \n",
      "tensor([[0.1028, 0.5712, 0.5159, 0.6558, 0.3224],\n",
      "        [0.4245, 0.9658, 0.2291, 0.5656, 0.7840],\n",
      "        [0.6976, 0.6045, 0.4621, 0.0453, 0.2933],\n",
      "        [0.8619, 0.8914, 0.5669, 0.7054, 0.2762]])\n",
      "Row 1, Col 1: 0.965757429599762\n",
      "Col 0: tensor([0.1028, 0.4245, 0.6976, 0.8619])\n",
      "Row 0: tensor([0.1028, 0.5712, 0.5159, 0.6558, 0.3224])\n",
      "Col 1: tensor([0.5712, 0.9658, 0.6045, 0.8914])\n",
      "Row 1: tensor([0.4245, 0.9658, 0.2291, 0.5656, 0.7840])\n",
      "\n",
      "Concat on Dimension 0: \n",
      "torch.Size([9, 4])\n",
      "Concat on Dimension 1: \n",
      "torch.Size([3, 12])\n"
     ]
    }
   ],
   "source": [
    "tensor_test = torch.rand((4, 5))\n",
    "print(f\"Origin Matrix: \\n{tensor_test}\\n\")\n",
    "# indexing\n",
    "# tensor[i][j] -> Row i, Col j\n",
    "print(f\"Row 1, Col 1: {tensor_test[1][1]}\\n\")\n",
    "\n",
    "# slicing\n",
    "print(f\"Col 0: {tensor_test[:, 0]}\")\n",
    "print(f\"Row 0: {tensor_test[0, :]}\")\n",
    "print(f\"Col 1: {tensor_test[..., 1]}\")\n",
    "print(f\"Row 1: {tensor_test[1, ...]}\\n\")\n",
    "\n",
    "# joining\n",
    "tensors = [torch.rand((3,4)) for i in range(3)]\n",
    "tensor_concat = torch.cat(tensors, dim=0)\n",
    "print(f\"Concat on Dimension 0: \\n{tensor_concat.shape}\")\n",
    "tensor_concat = torch.cat(tensors, dim=1)\n",
    "print(f\"Concat on Dimension 1: \\n{tensor_concat.shape}\\n\")\n"
   ]
  },
  {
   "cell_type": "code",
   "execution_count": null,
   "metadata": {},
   "outputs": [],
   "source": []
  }
 ]
}