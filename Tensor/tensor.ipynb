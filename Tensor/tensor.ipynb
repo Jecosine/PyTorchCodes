{
 "metadata": {
  "language_info": {
   "codemirror_mode": {
    "name": "ipython",
    "version": 3
   },
   "file_extension": ".py",
   "mimetype": "text/x-python",
   "name": "python",
   "nbconvert_exporter": "python",
   "pygments_lexer": "ipython3",
   "version": "3.7.0-final"
  },
  "orig_nbformat": 2,
  "kernelspec": {
   "name": "python3",
   "display_name": "Python 3.7.0 64-bit (conda)",
   "metadata": {
    "interpreter": {
     "hash": "73e03da126b73bfff3642ec5261d56fa25c444ea595de51041687efaa60dda41"
    }
   }
  }
 },
 "nbformat": 4,
 "nbformat_minor": 2,
 "cells": [
  {
   "source": [
    "# Learning Tensors"
   ],
   "cell_type": "markdown",
   "metadata": {}
  },
  {
   "cell_type": "code",
   "execution_count": 25,
   "metadata": {},
   "outputs": [],
   "source": [
    "import torch\n",
    "import numpy as np\n",
    "import gc"
   ]
  },
  {
   "source": [
    "## Initialize a Tensor"
   ],
   "cell_type": "markdown",
   "metadata": {}
  },
  {
   "cell_type": "code",
   "execution_count": 11,
   "metadata": {},
   "outputs": [
    {
     "output_type": "stream",
     "name": "stdout",
     "text": [
      "tensor([[1, 2],\n",
      "        [3, 4]])\n",
      "tensor([[1, 2],\n",
      "        [3, 4]], dtype=torch.int32)\n",
      "tensor([[1, 2],\n",
      "        [3, 4]], dtype=torch.int32)\n",
      "Ones like: \n",
      "tensor([[1, 1],\n",
      "        [1, 1]])\n",
      "Rand like: \n",
      "tensor([[0.7769, 0.1251],\n",
      "        [0.8057, 0.9650]])\n"
     ]
    }
   ],
   "source": [
    "# from list data \n",
    "list_data = [[1,2], [3,4]]\n",
    "tensor_from_list = torch.tensor(list_data)\n",
    "print(tensor_from_list)\n",
    "\n",
    "# from numpy\n",
    "np_data = np.array(list_data)\n",
    "tensor_from_np = torch.from_numpy(np_data)\n",
    "print(tensor_from_np)\n",
    "\n",
    "# specify dtype\n",
    "tensor_from_list_int32 = torch.tensor(list_data, dtype=torch.int32)\n",
    "print(tensor_from_list_int32)\n",
    "\n",
    "# from others (param type must be torch.Tensor)\n",
    "tensor_ones = torch.ones_like(tensor_from_list)\n",
    "print(f\"Ones like: \\n{tensor_ones}\")\n",
    "\n",
    "tensor_rand = torch.rand_like(tensor_from_list, dtype=torch.float)\n",
    "print(f\"Rand like: \\n{tensor_rand}\")\n",
    "\n",
    "# clear\n"
   ]
  },
  {
   "cell_type": "code",
   "execution_count": 13,
   "metadata": {},
   "outputs": [
    {
     "output_type": "stream",
     "name": "stdout",
     "text": [
      "Random Tensor: \n",
      " tensor([[0.6531, 0.5625, 0.1387, 0.1842],\n",
      "        [0.2118, 0.7784, 0.2184, 0.6342],\n",
      "        [0.8886, 0.9023, 0.7651, 0.4538]])\n",
      "Ones Tensor: \n",
      " tensor([[1., 1., 1., 1.],\n",
      "        [1., 1., 1., 1.],\n",
      "        [1., 1., 1., 1.]])\n",
      "Zeros Tensor: \n",
      " tensor([[0., 0., 0., 0.],\n",
      "        [0., 0., 0., 0.],\n",
      "        [0., 0., 0., 0.]])\n"
     ]
    }
   ],
   "source": [
    "# from shape\n",
    "\n",
    "shape = (3, 4, ) # why comma\n",
    "rand_tensor = torch.rand(shape)\n",
    "ones_tensor = torch.ones(shape)\n",
    "zeros_tensor = torch.zeros(shape)\n",
    "print(f\"Random Tensor: \\n {rand_tensor}\")\n",
    "print(f\"Ones Tensor: \\n {ones_tensor}\")\n",
    "print(f\"Zeros Tensor: \\n {zeros_tensor}\")"
   ]
  },
  {
   "source": [
    "## Tensor Attribute\n",
    "\n",
    "- shape\n",
    "- dtype\n",
    "- device"
   ],
   "cell_type": "markdown",
   "metadata": {}
  },
  {
   "cell_type": "code",
   "execution_count": 14,
   "metadata": {},
   "outputs": [
    {
     "output_type": "stream",
     "name": "stdout",
     "text": [
      "Shape: torch.Size([2, 2])\n",
      "Dtype: torch.int64\n",
      "Device: cpu\n"
     ]
    }
   ],
   "source": [
    "print(f\"Shape: {tensor_from_list.shape}\")\n",
    "print(f\"Dtype: {tensor_from_list.dtype}\")\n",
    "print(f\"Device: {tensor_from_list.device}\")"
   ]
  },
  {
   "source": [
    "## Tensor Operation\n",
    "\n",
    "- indexing and slicing\n",
    "- joining\n",
    "- arithmetic\n",
    "- single element value\n",
    "- in-place"
   ],
   "cell_type": "markdown",
   "metadata": {}
  },
  {
   "cell_type": "code",
   "execution_count": 49,
   "metadata": {},
   "outputs": [
    {
     "output_type": "stream",
     "name": "stdout",
     "text": [
      "Origin Matrix: \n",
      "tensor([[0.6203, 0.0910, 0.4930, 0.3318, 0.6971],\n",
      "        [0.4887, 0.6994, 0.8309, 0.2498, 0.5891],\n",
      "        [0.5998, 0.6979, 0.9462, 0.4678, 0.2603],\n",
      "        [0.2270, 0.7898, 0.9122, 0.0363, 0.0032]])\n",
      "\n",
      "Row 1, Col 1: 0.6994019150733948\n",
      "\n",
      "Col 0: tensor([0.6203, 0.4887, 0.5998, 0.2270])\n",
      "Row 0: tensor([0.6203, 0.0910, 0.4930, 0.3318, 0.6971])\n",
      "Col 1: tensor([0.0910, 0.6994, 0.6979, 0.7898])\n",
      "Row 1: tensor([0.4887, 0.6994, 0.8309, 0.2498, 0.5891])\n",
      "\n",
      "Concat on Dimension 0: \n",
      "torch.Size([9, 4])\n",
      "Concat on Dimension 1: \n",
      "torch.Size([3, 12])\n",
      "\n",
      "Origin Matrix: \n",
      "tensor([[0.8225, 0.9529, 0.3422, 0.7293, 0.9728],\n",
      "        [0.7853, 0.3901, 0.2475, 0.0076, 0.5201],\n",
      "        [0.2385, 0.8764, 0.6028, 0.0901, 0.5250],\n",
      "        [0.5516, 0.6639, 0.4055, 0.5663, 0.1659],\n",
      "        [0.4973, 0.9315, 0.9401, 0.3427, 0.4079]])\n",
      "\n",
      "True\n",
      "True\n"
     ]
    }
   ],
   "source": [
    "tensor_test = torch.rand((4, 5))\n",
    "print(f\"Origin Matrix: \\n{tensor_test}\\n\")\n",
    "# indexing\n",
    "# tensor[i][j] -> Row i, Col j\n",
    "print(f\"Row 1, Col 1: {tensor_test[1][1]}\\n\")\n",
    "\n",
    "# slicing\n",
    "print(f\"Col 0: {tensor_test[:, 0]}\")\n",
    "print(f\"Row 0: {tensor_test[0, :]}\")\n",
    "print(f\"Col 1: {tensor_test[..., 1]}\")\n",
    "print(f\"Row 1: {tensor_test[1, ...]}\\n\")\n",
    "\n",
    "# joining\n",
    "tensors = [torch.rand((3,4)) for i in range(3)]\n",
    "tensor_concat = torch.cat(tensors, dim=0)\n",
    "print(f\"Concat on Dimension 0: \\n{tensor_concat.shape}\")\n",
    "tensor_concat = torch.cat(tensors, dim=1)\n",
    "print(f\"Concat on Dimension 1: \\n{tensor_concat.shape}\\n\")\n",
    "\n",
    "# arithmetic\n",
    "tensor_test = torch.rand((5,5))\n",
    "print(f\"Origin Matrix: \\n{tensor_test}\\n\")\n",
    "## matmul\n",
    "res1 = tensor_test @ tensor_test.T\n",
    "res2 = tensor_test.matmul(tensor_test.T)\n",
    "res3 = torch.zeros_like(tensor_test)\n",
    "torch.matmul(tensor_test, tensor_test.T, out=res3)\n",
    "print(res1.equal(res2) and res2.equal(res3))\n",
    "## element-wise mul\n",
    "res1 = tensor_test * tensor_test\n",
    "res2 = tensor_test.mul(tensor_test)\n",
    "res3 = torch.zeros_like(tensor_test)\n",
    "torch.mul(tensor_test, tensor_test, out=res3)\n",
    "print(res1.equal(res2) and res2.equal(res3))"
   ]
  },
  {
   "source": [
    "## Single element"
   ],
   "cell_type": "markdown",
   "metadata": {}
  },
  {
   "cell_type": "code",
   "execution_count": 51,
   "metadata": {},
   "outputs": [
    {
     "output_type": "stream",
     "name": "stdout",
     "text": [
      "<class 'torch.Tensor'>\n",
      "<class 'float'>\n"
     ]
    }
   ],
   "source": [
    "tensor_sum = tensor_test.sum()\n",
    "print(type(tensor_sum))\n",
    "print(type(tensor_sum.item()))"
   ]
  },
  {
   "source": [
    "## In-place"
   ],
   "cell_type": "markdown",
   "metadata": {}
  },
  {
   "cell_type": "code",
   "execution_count": 53,
   "metadata": {},
   "outputs": [
    {
     "output_type": "stream",
     "name": "stdout",
     "text": [
      "Origin Matrix: \n",
      "tensor([[0.8225, 0.9529, 0.3422, 0.7293, 0.9728],\n",
      "        [0.7853, 0.3901, 0.2475, 0.0076, 0.5201],\n",
      "        [0.2385, 0.8764, 0.6028, 0.0901, 0.5250],\n",
      "        [0.5516, 0.6639, 0.4055, 0.5663, 0.1659],\n",
      "        [0.4973, 0.9315, 0.9401, 0.3427, 0.4079]])\n",
      "\n",
      "Current Matrix: \n",
      "tensor([[5.8225, 5.9529, 5.3422, 5.7293, 5.9728],\n",
      "        [5.7853, 5.3901, 5.2475, 5.0076, 5.5201],\n",
      "        [5.2385, 5.8764, 5.6028, 5.0901, 5.5250],\n",
      "        [5.5516, 5.6639, 5.4055, 5.5663, 5.1659],\n",
      "        [5.4973, 5.9315, 5.9401, 5.3427, 5.4079]])\n",
      "\n"
     ]
    }
   ],
   "source": [
    "print(f\"Origin Matrix: \\n{tensor_test}\\n\")\n",
    "# add to every element\n",
    "tensor_test.add_(5)\n",
    "print(f\"Current Matrix: \\n{tensor_test}\\n\")\n"
   ]
  }
 ]
}